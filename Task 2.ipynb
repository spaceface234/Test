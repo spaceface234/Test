{
 "cells": [
  {
   "cell_type": "markdown",
   "metadata": {},
   "source": [
    "# Task 2 - Detecting Fraudulent Sales\n",
    "You were just hired by BA Toys as an Internal Auditor. The Chief Audit Executive (CAE) is also new and has been reviewing processes surrounding the purchasing and sales processes. The internal controls appear to be well-designed, but the external auditor has raised some concerns about revenues. Specifically, the auditor claims that their analytics-based risk assessment suggests sales appear inconsistent with inventory levels. The CAE has reviewed the auditor’s evidence and agrees the issue warrants investigation.\n",
    "\n",
    "The CAE has tasked you with reviewing inventory records, purchasing activity, and sales activity. She has obtained the data for you from the relevant departments. Below, she provides a description of each data source as well as what she can ascertain from the data. However, her information may be incomplete, and she conveys that the departments (Sales, Purchasing, and Inventory Management) are unlikely to be of much help. Like most retailers, BA’s fiscal year-end is January 31, and you will be focusing on the year ended January 31, 2018."
   ]
  },
  {
   "cell_type": "markdown",
   "metadata": {},
   "source": [
    "\n",
    "### Data files 📂\n",
    "You will find the following datasets in your task materials, which you can unzip (if on ICE, I have provided the reference to these files):\n",
    "\n",
    "1.\t“BAToysEndInvJan2017.csv” and “BAToysEndInvJan2018.csv” – These files contain beginning and ending inventory, respectively, for BA Toys’ 21 stores.\n",
    "\n",
    "2.\t“BAToysPurchasesJan2018.csv” – All inventory purchases made during the year ending 1/31/2018.\n",
    "\n",
    "3.\t“BAToysTAXSalesJan2018.csv” – All sales occurring during the year ending 1/31/2018.\n",
    "\n",
    "4.\t“BAToysReturns.csv” – All returns processed during the year ending 1/31/2018. Note that returns refer to toys returned *to the vendor* (i.e., they reduce inventory available for sale). These *are not* customer returns.\n",
    "\n",
    "5.\t“PriceListing.csv” – A listing purchase and sales prices for inventory.\n"
   ]
  },
  {
   "cell_type": "markdown",
   "metadata": {},
   "source": [
    "**Additional Notes** 📝\n",
    "\n",
    "As noted, the CAE did not receive much information about the data, but made a few notes before passing the task to you:\n",
    "\n",
    "- Each store is referenced in several datasets and appears to be referred to by a state code (e.g., “NY”) followed by a four-digit number.\n",
    "- The CAE thinks BrandId somehow corresponds to InventoryId, which may give reference to stores."
   ]
  },
  {
   "cell_type": "markdown",
   "metadata": {},
   "source": [
    "\n",
    "### Requirements (summarized here, given in more detail below)\n",
    "1. Review & describe data.\n",
    "2. Inspect toy vendor products and comment on volume, margins, etc.\n",
    "3. Determine whether any fraudulent sales appear to exist; quantify the dollar impact of fradulent sales.\n",
    "4. (4046 only) Conduct qualitative review of suspected fraudulent sales.\n",
    "5. (6046 only) Conduct systematic review of suspected fraudulent sales."
   ]
  },
  {
   "cell_type": "markdown",
   "metadata": {},
   "source": [
    "\n",
    "#### General Hint\n",
    "\n",
    "The Sales, Purchases, and Returns files all have timestamps that would allow you to evaluate inventory at any given date. However, I suggest simplifying your analysis based on the specific question of whether there are fraudulent sales in the year (regardless of when they occur). In other words, begin by considering total purchases (by store-product), total sales (by store-product), etc. Collapse the datasets using the idenfier(s) corresponding to unique Store-Brand combinations. This may be sufficient to uncover any issues. If it is not, then you can circle back and perform a more detailed analysis at the daily level (but, hint, you shouldn’t have to)."
   ]
  },
  {
   "cell_type": "markdown",
   "metadata": {},
   "source": [
    "\n",
    "## Requirement 1\n",
    "Load each dataset into a pandas dataframe. Inspect the data and provide the CAE with definitions of what the various identifiers appear to mean.\n",
    "\n",
    "Specifically, briefly describe each of the following fields:\n",
    "1. Store\n",
    "2. VendorNo (or VendorId)\n",
    "3. Brand (or BrandId)\n",
    "4. InventoryId"
   ]
  },
  {
   "cell_type": "code",
   "execution_count": 32,
   "metadata": {},
   "outputs": [
    {
     "name": "stdout",
     "output_type": "stream",
     "text": [
      "For Store Columns:\n",
      "Unique values for Dataset 1: \n",
      " ['CT-6253' 'DC-3827' 'DE-2832' 'MA-1384' 'MA-1738' 'MA-2647' 'MA-5262'\n",
      " 'MD-2830' 'MD-3274' 'ME-0293' 'NH-7575' 'NJ-4291' 'NJ-5264' 'NY-3349'\n",
      " 'NY-3458' 'NY-7283' 'PA-1445' 'PA-7263' 'PA-9272' 'RI-4893' 'VT-8234']\n",
      "Unique values for Dataset 2: \n",
      " ['CT-6253' 'DC-3827' 'DE-2832' 'MA-1384' 'MA-1738' 'MA-2647' 'MA-5262'\n",
      " 'MD-2830' 'MD-3274' 'ME-0293' 'NH-7575' 'NJ-4291' 'NJ-5264' 'NY-3349'\n",
      " 'NY-3458' 'NY-7283' 'PA-1445' 'PA-7263' 'PA-9272' 'RI-4893' 'VT-8234']\n",
      "Unique values for Dataset 3: \n",
      " ['CT-6253' 'NJ-4291' 'MA-5262' 'VT-8234' 'MD-3274' 'MD-2830' 'ME-0293'\n",
      " 'NH-7575' 'PA-7263' 'MA-2647' 'PA-9272' 'DE-2832' 'NJ-5264' 'DC-3827'\n",
      " 'PA-1445' 'MA-1738' 'MA-1384' 'NY-3458' 'RI-4893' 'NY-7283' 'NY-3349']\n",
      "Unique values for Dataset 4: \n",
      " ['CT-6253' 'NJ-4291' 'MA-5262' 'MD-3274' 'NH-7575' 'MA-2647' 'MD-2830'\n",
      " 'DE-2832' 'VT-8234' 'MA-1738' 'PA-9272' 'MA-1384' 'NY-7283' 'PA-7263'\n",
      " 'ME-0293' 'NJ-5264' 'RI-4893' 'NY-3458' 'NY-3349' 'DC-3827' 'PA-1445']\n",
      "For Vendor ID:\n",
      "[55185 20134 24967 22310]\n",
      "[55185 24967 22310 20134]\n"
     ]
    }
   ],
   "source": [
    "import pandas as pd\n",
    "\n",
    "folder = \"Task2Data\" # update to the correct folder path\n",
    "\n",
    "# Load datasets (I provided first, fill in the rest)\n",
    "beginv = pd.read_csv(f\"{folder}/BAToysEndInvJan2017.csv\")\n",
    "endinv = pd.read_csv(f\"{folder}/BAToysEndInvJan2018.csv\")\n",
    "purch  = pd.read_csv(f\"{folder}/BAToysPurchasesJan2018.csv\")\n",
    "sale   = pd.read_csv(f\"{folder}/BAToysTAXSalesJan2018.csv\")\n",
    "returns= pd.read_csv(f\"{folder}/BAToysRetJan2018.csv\")\n",
    "\n",
    "listings = pd.read_csv(f\"{folder}/PriceListing.csv\") #Adding one more for references\n",
    "# Add code here to inspect the datasets:\n",
    "\n",
    "def printColumns (datasets: list, column: str):\n",
    "    X = 1\n",
    "    for data in datasets:\n",
    "        print(f'Unique values for Dataset {X}: \\n',data[column].unique())\n",
    "        X += 1\n",
    "print('For Store Columns:')\n",
    "printColumns([beginv, endinv, purch, returns], 'Store')\n",
    "print('For Vendor ID:')\n",
    "print(sale.VendorNo.unique()) \n",
    "print(listings['VendorId'].unique())"
   ]
  },
  {
   "cell_type": "markdown",
   "metadata": {},
   "source": [
    "✅  *Insert Requirement 1 answer:*\n",
    "\n",
    "1. <p style = 'color: #1ab9b9ff'>The Store identifier seems to note the specific store using a State identifier followed by a 4 digit code. If guessed, the first two letters are the state initials and the last 4 numbers appears to be a store identifier. However, not enough information is provided to determine the numbering system </p>"
   ]
  },
  {
   "cell_type": "markdown",
   "metadata": {},
   "source": [
    "2.<p style = 'color: #1ab9b9ff'> Vendor ID/No seems to be a foreign key in the Sales Dataset for vendor information. The sales dataset includes information regarding the vendor name and vendor ID. It is highly probable that we use the vendor ID/No from the Sales Dataset to merge with the Price Listing. However, we note that a vendor can provide multiple products, so using only this identifier is not good enough to merge the dataset. </p>"
   ]
  },
  {
   "cell_type": "markdown",
   "metadata": {},
   "source": [
    "3."
   ]
  },
  {
   "cell_type": "markdown",
   "metadata": {},
   "source": [
    "4."
   ]
  },
  {
   "cell_type": "markdown",
   "metadata": {},
   "source": [
    "## Requirement 2\n",
    "\n",
    "Inspect the data and answer these specific questions about vendors (HINT: I suggest relying on PriceListing file:)\n",
    "\n",
    "1. How many unique vendors does BA Toys transact with?\n",
    "2. How many unique products are there for each vendor?\n",
    "3. Which vendor’s products produce the largest gross margins? Define the gross margin as sales price less purchase price (cost) divided by sales price.\n"
   ]
  },
  {
   "cell_type": "code",
   "execution_count": 5,
   "metadata": {
    "ExecuteTime": {
     "end_time": "2025-09-19T16:13:05.707176Z",
     "start_time": "2025-09-19T16:13:05.704658Z"
    },
    "collapsed": false,
    "is_executing": true,
    "jupyter": {
     "outputs_hidden": false
    }
   },
   "outputs": [],
   "source": [
    "#  Insert code needed to answer requirement 2 here\n",
    "\n"
   ]
  },
  {
   "cell_type": "markdown",
   "metadata": {},
   "source": [
    "✅ *Insert Requirement 2 Answers:*\n",
    "\n",
    "1."
   ]
  },
  {
   "cell_type": "markdown",
   "metadata": {},
   "source": [
    "2."
   ]
  },
  {
   "cell_type": "markdown",
   "metadata": {},
   "source": [
    "3.\n"
   ]
  },
  {
   "cell_type": "markdown",
   "metadata": {},
   "source": [
    "## Requirement 3\n",
    "\n",
    "Evaluate the external auditors’ claims. Specifically, evaluate sales **by store, by product**.\n",
    "\n",
    "Focus on these fundamental questions as you answer this question:\n",
    "1.  Do sales for a given store-product combination ever exceed inventory available for sale? How do you define \"Inventory Available for Sales\"? (Hint: Beginning Inventory + Purchases + Returns - Ending Inventory; Note that I *add* returns because in the data this is a negative quantity)\n",
    "2.  If so, does this occur for all products and stores? Or a small number? Describe the stores and products for which you observe sales exceeding available inventory.\n",
    "3. What is the total dollar amount of the “suspect sales”?\n",
    "4. What is the average gross margin for the suspect sales?\n",
    "\n",
    "**HINT**: You'll want to use `pd.merge` to combine datasets, but be careful about merging too early or the dataset will be huge. I suggest using `groupby` to collapse larger datasets (like purchases or sales) down to a more granular level (`InventoryId`)."
   ]
  },
  {
   "cell_type": "code",
   "execution_count": null,
   "metadata": {
    "collapsed": false,
    "is_executing": true,
    "jupyter": {
     "outputs_hidden": false
    }
   },
   "outputs": [],
   "source": [
    "# Insert code for requirement 3.1 here\n"
   ]
  },
  {
   "cell_type": "code",
   "execution_count": null,
   "metadata": {
    "collapsed": false,
    "is_executing": true,
    "jupyter": {
     "outputs_hidden": false
    }
   },
   "outputs": [],
   "source": [
    "# Insert code for requirement 3.2 here\n"
   ]
  },
  {
   "cell_type": "code",
   "execution_count": null,
   "metadata": {},
   "outputs": [],
   "source": [
    "# Insert code for requirement 3.3 here\n"
   ]
  },
  {
   "cell_type": "code",
   "execution_count": null,
   "metadata": {},
   "outputs": [],
   "source": [
    "# Insert code for requirement 3.4 here\n"
   ]
  },
  {
   "cell_type": "markdown",
   "metadata": {},
   "source": [
    "✅ *Insert Requirement 3 Answers:*\n",
    "\n",
    "1."
   ]
  },
  {
   "cell_type": "markdown",
   "metadata": {},
   "source": [
    "2."
   ]
  },
  {
   "cell_type": "markdown",
   "metadata": {},
   "source": [
    "3."
   ]
  },
  {
   "cell_type": "markdown",
   "metadata": {},
   "source": [
    "4.\n"
   ]
  },
  {
   "cell_type": "markdown",
   "metadata": {},
   "source": [
    "## Requirement 4 (4046 Only )\n",
    "Conduct a qualitative analysis of fraudulent sales. Specifically, generate and output a CSV file with the likely frauduent sales and review. Identify any red flags you oberve in data.\n",
    "\n",
    "Note that you should submit your CSV file of fraudulent sales along with your completed jupyter notebook."
   ]
  },
  {
   "cell_type": "markdown",
   "metadata": {},
   "source": [
    "\n",
    "> 📌 Please do not zip the files. When files are unzipped after being downloaded from Canvas for grading purposes, your identity information is lost, which may lead to confusion with other students’ submissions."
   ]
  },
  {
   "cell_type": "code",
   "execution_count": null,
   "metadata": {
    "collapsed": false,
    "is_executing": true,
    "jupyter": {
     "outputs_hidden": false
    }
   },
   "outputs": [],
   "source": [
    "# Insert code to answer requirement 4\n"
   ]
  },
  {
   "cell_type": "markdown",
   "metadata": {},
   "source": [
    "✅ *Insert answer for requirement 4*\n",
    "\n",
    "*\n"
   ]
  },
  {
   "cell_type": "markdown",
   "metadata": {},
   "source": [
    "## Requirement 5 (6046 Only)\n",
    "Conduct a systematic review of the fraudulent sales (i.e., from the original sales records). Specifically, choose **at least 4** of the following questions to analyze, commenting on the difference between fraudulent and legitimate sales. You can use visualizations, tables, or other methods to answer these questions.\n",
    "\n",
    "Add a code cell for each, as well as a markdown that provides an analysis:\n",
    "\n",
    "1. Sales quantities\n",
    "2. Sales prices\n",
    "3. Sales dates\n",
    "4. Toy brands\n",
    "5. Purchase prices\n",
    "6. Toy descriptions\n",
    "\n",
    "When done, save your sample of fraudulent sales to a CSV file and submit it along with your completed jupyter notebook."
   ]
  },
  {
   "cell_type": "markdown",
   "metadata": {},
   "source": [
    "\n",
    ">  📌 Please do not zip the files. When files are unzipped after being downloaded from Canvas for grading purposes, your identity information is lost, which may lead to confusion with other students’ submissions."
   ]
  },
  {
   "cell_type": "code",
   "execution_count": null,
   "metadata": {},
   "outputs": [],
   "source": [
    "# Analysis 1\n"
   ]
  },
  {
   "cell_type": "markdown",
   "metadata": {},
   "source": [
    "✅ Discussion of Analysis 1:\n"
   ]
  },
  {
   "cell_type": "code",
   "execution_count": null,
   "metadata": {},
   "outputs": [],
   "source": [
    "# Analysis 2\n"
   ]
  },
  {
   "cell_type": "markdown",
   "metadata": {},
   "source": [
    "✅ Discussion of Analysis 2:"
   ]
  },
  {
   "cell_type": "code",
   "execution_count": null,
   "metadata": {},
   "outputs": [],
   "source": [
    "# Analysis 3\n"
   ]
  },
  {
   "cell_type": "markdown",
   "metadata": {},
   "source": [
    "✅ Discussion of Analysis 3:"
   ]
  },
  {
   "cell_type": "code",
   "execution_count": null,
   "metadata": {},
   "outputs": [],
   "source": [
    "# Analysis 4\n"
   ]
  },
  {
   "cell_type": "markdown",
   "metadata": {},
   "source": [
    "✅ Discussion of Analysis 4:"
   ]
  }
 ],
 "metadata": {
  "kernelspec": {
   "display_name": "acct-analytics-base",
   "language": "python",
   "name": "python3"
  },
  "language_info": {
   "codemirror_mode": {
    "name": "ipython",
    "version": 3
   },
   "file_extension": ".py",
   "mimetype": "text/x-python",
   "name": "python",
   "nbconvert_exporter": "python",
   "pygments_lexer": "ipython3",
   "version": "3.11.9"
  }
 },
 "nbformat": 4,
 "nbformat_minor": 4
}
